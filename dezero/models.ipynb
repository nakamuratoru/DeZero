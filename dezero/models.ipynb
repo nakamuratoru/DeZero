{
 "cells": [
  {
   "cell_type": "code",
   "execution_count": 1,
   "metadata": {},
   "outputs": [],
   "source": [
    "from dezero import Layer\n",
    "from dezero import utils\n",
    "import dezero.functions as F\n",
    "import dezero.layers as L\n",
    "import numpy as np"
   ]
  },
  {
   "cell_type": "code",
   "execution_count": 2,
   "metadata": {},
   "outputs": [],
   "source": [
    "class Model(Layer):\n",
    "    def plot(self, *inputs, to_file=\"model.png\"):\n",
    "        y = self.forward(*inputs)\n",
    "        return utils.plot_dot_graph(y, verbose=True, to_file=to_file)\n",
    "            "
   ]
  },
  {
   "cell_type": "code",
   "execution_count": 3,
   "metadata": {},
   "outputs": [],
   "source": [
    "class MLP(Model):\n",
    "    def __init__(self, fc_output_sizes, activation=F.sigmoid_simple):\n",
    "        super().__init__()\n",
    "        self.activation = activation\n",
    "        self.layers = []\n",
    "        \n",
    "        for i, out_size in enumerate(fc_output_sizes):\n",
    "            layer = L.Linear(out_size)\n",
    "            setattr(self, \"l\"+str(i), layer)\n",
    "            self.layers.append(layer)\n",
    "            \n",
    "    def forward(self, x):\n",
    "        for l in self.layers[:-1]:\n",
    "            x = self.activation(l(x))\n",
    "        return self.layers[-1](x)"
   ]
  },
  {
   "cell_type": "code",
   "execution_count": 5,
   "metadata": {},
   "outputs": [],
   "source": [
    "class VGG16(Model):\n",
    "    WEIGHTS_PATH = 'https://github.com/koki0702/dezero-models/releases/download/v0.1/vgg16.npz'\n",
    "    \n",
    "    def __init__(self, pretrained=False):\n",
    "        super().__init__()\n",
    "        self.conv1_1 = L.Conv2d(64, kernel_size=3 , stride=1, pad=1)\n",
    "        self.conv1_2 = L.Conv2d(64, kernel_size=3 , stride=1, pad=1)\n",
    "        self.conv2_1 = L.Conv2d(128, kernel_size=3 , stride=1, pad=1)\n",
    "        self.conv2_2 = L.Conv2d(128, kernel_size=3 , stride=1, pad=1)\n",
    "        self.conv3_1 = L.Conv2d(256, kernel_size=3 , stride=1, pad=1)\n",
    "        self.conv3_2 = L.Conv2d(256, kernel_size=3 , stride=1, pad=1)\n",
    "        self.conv3_3 = L.Conv2d(256, kernel_size=3 , stride=1, pad=1)\n",
    "        self.conv4_1 = L.Conv2d(512, kernel_size=3 , stride=1, pad=1)\n",
    "        self.conv4_2 = L.Conv2d(512, kernel_size=3 , stride=1, pad=1)\n",
    "        self.conv4_3 = L.Conv2d(512, kernel_size=3 , stride=1, pad=1)\n",
    "        self.conv5_1 = L.Conv2d(1024, kernel_size=3 , stride=1, pad=1)\n",
    "        self.conv5_2 = L.Conv2d(1024, kernel_size=3 , stride=1, pad=1)\n",
    "        self.conv5_3 = L.Conv2d(1024, kernel_size=3 , stride=1, pad=1)\n",
    "        self.fc6 = L.Linear(4096)\n",
    "        self.fc7 = L.Linear(4096)\n",
    "        self.fc8 = L.Linear(4096)\n",
    "        \n",
    "        if pretrained:\n",
    "            weights_path = utils.get_file(VGG16.WEIGHTS_PATH)\n",
    "            self.load_weights(weights_path)\n",
    "            \n",
    "    def forward(self, x):\n",
    "        x = F.relu(self.conv1_1(x))\n",
    "        x = F.relu(self.conv1_2(x))\n",
    "        x = F.pooling(x, 2, 2)\n",
    "        x = F.relu(self.conv2_1(x))\n",
    "        x = F.relu(self.conv2_2(x))\n",
    "        x = F.pooling(x, 2, 2)\n",
    "        x = F.relu(self.conv3_1(x))\n",
    "        x = F.relu(self.conv3_2(x))\n",
    "        x = F.relu(self.conv3_3(x))\n",
    "        x = F.pooling(x, 2, 2)\n",
    "        x = F.relu(self.conv4_1(x))\n",
    "        x = F.relu(self.conv4_2(x))\n",
    "        x = F.relu(self.conv4_3(x))\n",
    "        x = F.pooling(x, 2, 2)\n",
    "        x = F.relu(self.conv5_1(x))\n",
    "        x = F.relu(self.conv5_2(x))\n",
    "        x = F.relu(self.conv5_3(x))\n",
    "        x = F.pooling(x, 2, 2)\n",
    "        x = F.reshape(x, (x.shape[0], -1))\n",
    "        x = F.dropout(F.relu(self.fc6(x)))\n",
    "        x = F.dropout(F.relu(self.fc7(x)))\n",
    "        x = self.fc8(x)\n",
    "        return x\n",
    "    \n",
    "    @staticmethod\n",
    "    def preprocess(image, size=(224, 224), dtype=np.float32):\n",
    "        image = image.convert('RGB')\n",
    "        if size:\n",
    "            image = image.resize(size)\n",
    "        image = np.asarray(image, dtype=dtype)\n",
    "        image = image[:, :, ::-1]\n",
    "        image -= np.array([103.939, 116.779, 123.68], dtype=dtype)\n",
    "        image = image.transpose((2, 0, 1))\n",
    "        return image\n",
    "        \n",
    "        "
   ]
  },
  {
   "cell_type": "code",
   "execution_count": null,
   "metadata": {},
   "outputs": [],
   "source": []
  }
 ],
 "metadata": {
  "kernelspec": {
   "display_name": "Environment (conda_dezero)",
   "language": "python",
   "name": "conda_dezero"
  },
  "language_info": {
   "codemirror_mode": {
    "name": "ipython",
    "version": 3
   },
   "file_extension": ".py",
   "mimetype": "text/x-python",
   "name": "python",
   "nbconvert_exporter": "python",
   "pygments_lexer": "ipython3",
   "version": "3.7.9"
  }
 },
 "nbformat": 4,
 "nbformat_minor": 2
}
