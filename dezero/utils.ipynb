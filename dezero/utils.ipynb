{
 "cells": [
  {
   "cell_type": "code",
   "execution_count": 2,
   "metadata": {},
   "outputs": [],
   "source": [
    "import os\n",
    "import subprocess\n",
    "import urllib.request\n",
    "import numpy as np\n",
    "from dezero import as_variable\n",
    "from dezero import Variable\n",
    "from dezero import cuda"
   ]
  },
  {
   "cell_type": "code",
   "execution_count": 4,
   "metadata": {},
   "outputs": [],
   "source": [
    "def _dot_var(v, verbose=False):\n",
    "    dot_var = '{} [label=\"{}\", color=orange, style=filled]\\n'\n",
    "    \n",
    "    name = '' if v.name is None else v.name\n",
    "    if verbose and v.data is not None:\n",
    "        if v.name is not None:\n",
    "            name += ': '\n",
    "        name += str(v.shape) + ' ' + str(v.dtype)\n",
    "    return dot_var.format(id(v), name)\n",
    "    "
   ]
  },
  {
   "cell_type": "code",
   "execution_count": 7,
   "metadata": {},
   "outputs": [],
   "source": [
    "def _dot_func(f):\n",
    "    dot_func = '{} [label=\"{}\", color=lightblue, style=filled, shape=box]\\n'\n",
    "    txt = dot_func.format(id(f), f.__class__.__name__)\n",
    "    \n",
    "    dot_edge = '{} -> {}\\n'\n",
    "    for x in f.inputs:\n",
    "        txt += dot_edge.format(id(x),id(f))\n",
    "    for y in f.outputs:\n",
    "        txt += dot_edge.format(id(f), id(y()))\n",
    "    return txt\n",
    "    "
   ]
  },
  {
   "cell_type": "code",
   "execution_count": 10,
   "metadata": {},
   "outputs": [],
   "source": [
    "def get_dot_graph(output, verbose=True):\n",
    "    txt = ''\n",
    "    funcs = []\n",
    "    seen_set = set()\n",
    "    \n",
    "    def add_func(f):\n",
    "        if f not in seen_set:\n",
    "            funcs.append(f)\n",
    "            seen_set.add(f)\n",
    "            \n",
    "    add_func(output.creator)\n",
    "    txt += _dot_var(output, verbose)\n",
    "    \n",
    "    while funcs:\n",
    "        func = funcs.pop()\n",
    "        txt += _dot_func(func)\n",
    "        for x in func.inputs:\n",
    "            txt += _dot_var(x, verbose)\n",
    "            \n",
    "            if x.creator is not None:\n",
    "                add_func(x.creator)\n",
    "    return 'digraph g {\\n' + txt + '}'"
   ]
  },
  {
   "cell_type": "code",
   "execution_count": 12,
   "metadata": {},
   "outputs": [],
   "source": [
    "def plot_dot_graph(output, verbose=True, to_file='graph.png'):\n",
    "    dot_graph = get_dot_graph(output, verbose)\n",
    "    \n",
    "    tmp_dir = os.path.join(os.path.expanduser(\"~\"), '.dezero')\n",
    "    if not os.path.exists(tmp_dir):\n",
    "        os.mkdir(tmp_dir)\n",
    "    graph_path = os.path.join(tmp_dir, 'tmp_graph.dot')\n",
    "    \n",
    "    with open(graph_path, 'w') as f:\n",
    "        f.write(dot_graph)\n",
    "        \n",
    "    extension = os.path.splitext(to_file)[1][1:]\n",
    "    cmd = 'dot {} -T {} -o {}'.format(graph_path, extension, to_file)\n",
    "    subprocess.run(cmd, shell= True)\n",
    "    \n",
    "    \n",
    "     # Return the image as a Jupyter Image object, to be displayed in-line.\n",
    "    try:\n",
    "        from IPython import display\n",
    "        return display.Image(filename=to_file)\n",
    "    except:\n",
    "        pass"
   ]
  },
  {
   "cell_type": "code",
   "execution_count": 8,
   "metadata": {},
   "outputs": [
    {
     "name": "stdout",
     "output_type": "stream",
     "text": [
      "140681398127696 [label=\"x\", color=orange, style=filled]\n",
      "\n",
      "140681398127696 [label=\"x: (2, 3) float64\", color=orange, style=filled]\n",
      "\n"
     ]
    }
   ],
   "source": [
    "# x = Variable(np.random.randn(2, 3))\n",
    "# x.name = \"x\"\n",
    "# print(_dot_var(x))\n",
    "# print(_dot_var(x, verbose=True))"
   ]
  },
  {
   "cell_type": "code",
   "execution_count": 9,
   "metadata": {},
   "outputs": [
    {
     "name": "stdout",
     "output_type": "stream",
     "text": [
      "140681403810640 [label=\"Add\", color=lightblue, style=filled, shape=box]\n",
      "140681403811984 -> 140681403810640\n",
      "140681403809936 -> 140681403810640\n",
      "140681403810640 -> 140681403811088\n",
      "\n"
     ]
    }
   ],
   "source": [
    "# x0 = Variable(np.array(1.0))\n",
    "# x1 = Variable(np.array(1.0))\n",
    "# y = x0 + x1\n",
    "# txt = _dot_func(y.creator)\n",
    "# print(txt)"
   ]
  },
  {
   "cell_type": "code",
   "execution_count": 1,
   "metadata": {},
   "outputs": [],
   "source": [
    "def sum_to(x, shape):\n",
    "    \"\"\"Sum elements along axes to output an array of a given shape.\n",
    "\n",
    "    Args:\n",
    "        x (ndarray): Input array.\n",
    "        shape:\n",
    "\n",
    "    Returns:\n",
    "        ndarray: Output array of the shape.\n",
    "    \"\"\"\n",
    "    ndim = len(shape)\n",
    "    lead = x.ndim - ndim\n",
    "    lead_axis = tuple(range(lead))\n",
    "\n",
    "    axis = tuple([i + lead for i, sx in enumerate(shape) if sx == 1])\n",
    "    y = x.sum(lead_axis + axis, keepdims=True)\n",
    "    if lead > 0:\n",
    "        y = y.squeeze(lead_axis)\n",
    "    return y"
   ]
  },
  {
   "cell_type": "code",
   "execution_count": 2,
   "metadata": {},
   "outputs": [],
   "source": [
    "def reshape_sum_backward(gy, x_shape, axis, keepdims):\n",
    "    \"\"\"Reshape gradient appropriately for dezero.functions.sum's backward.\n",
    "\n",
    "    Args:\n",
    "        gy (dezero.Variable): Gradient variable from the output by backprop.\n",
    "        x_shape (tuple): Shape used at sum function's forward.\n",
    "        axis (None or int or tuple of ints): Axis used at sum function's\n",
    "            forward.\n",
    "        keepdims (bool): Keepdims used at sum function's forward.\n",
    "\n",
    "    Returns:\n",
    "        dezero.Variable: Gradient variable which is reshaped appropriately\n",
    "    \"\"\"\n",
    "    ndim = len(x_shape)\n",
    "    tupled_axis = axis\n",
    "    if axis is None:\n",
    "        tupled_axis = None\n",
    "    elif not isinstance(axis, tuple):\n",
    "        tupled_axis = (axis,)\n",
    "\n",
    "    if not (ndim == 0 or tupled_axis is None or keepdims):\n",
    "        actual_axis = [a if a >= 0 else a + ndim for a in tupled_axis]\n",
    "        shape = list(gy.shape)\n",
    "        for a in sorted(actual_axis):\n",
    "            shape.insert(a, 1)\n",
    "    else:\n",
    "        shape = gy.shape\n",
    "\n",
    "    gy = gy.reshape(shape)  # reshape\n",
    "    return gy"
   ]
  },
  {
   "cell_type": "code",
   "execution_count": 1,
   "metadata": {},
   "outputs": [],
   "source": [
    "def get_file(url, file_name=None):\n",
    "    \"\"\"Download a file from the `url` if it is not in the cache.\n",
    "\n",
    "    The file at the `url` is downloaded to the `~/.dezero`.\n",
    "\n",
    "    Args:\n",
    "        url (str): URL of the file.\n",
    "        file_name (str): Name of the file. It `None` is specified the original\n",
    "            file name is used.\n",
    "\n",
    "    Returns:\n",
    "        str: Absolute path to the saved file.\n",
    "    \"\"\"\n",
    "    if file_name is None:\n",
    "        file_name = url[url.rfind('/') + 1:]\n",
    "    file_path = os.path.join(cache_dir, file_name)\n",
    "\n",
    "    if not os.path.exists(cache_dir):\n",
    "        os.mkdir(cache_dir)\n",
    "\n",
    "    if os.path.exists(file_path):\n",
    "        return file_path\n",
    "\n",
    "    print(\"Downloading: \" + file_name)\n",
    "    try:\n",
    "        urllib.request.urlretrieve(url, file_path, show_progress)\n",
    "    except (Exception, KeyboardInterrupt) as e:\n",
    "        if os.path.exists(file_path):\n",
    "            os.remove(file_path)\n",
    "        raise\n",
    "    print(\" Done\")\n",
    "\n",
    "    return file_path\n"
   ]
  },
  {
   "cell_type": "code",
   "execution_count": 6,
   "metadata": {},
   "outputs": [],
   "source": [
    "cache_dir = os.path.join(os.path.expanduser('~'), '.dezero')"
   ]
  },
  {
   "cell_type": "code",
   "execution_count": 7,
   "metadata": {},
   "outputs": [],
   "source": [
    "def pair(x):\n",
    "    if isinstance(x, int):\n",
    "        return (x, x)\n",
    "    elif isinstance(x, tuple):\n",
    "        assert len(x) == 2\n",
    "        return x\n",
    "    else:\n",
    "        raise ValueError"
   ]
  },
  {
   "cell_type": "code",
   "execution_count": 1,
   "metadata": {},
   "outputs": [],
   "source": [
    "def show_progress(block_num, block_size, total_size):\n",
    "    bar_template = \"\\r[{}] {:.2f}%\"\n",
    "\n",
    "    downloaded = block_num * block_size\n",
    "    p = downloaded / total_size * 100\n",
    "    i = int(downloaded / total_size * 30)\n",
    "    if p >= 100.0: p = 100.0\n",
    "    if i >= 30: i = 30\n",
    "    bar = \"#\" * i + \".\" * (30 - i)\n",
    "    print(bar_template.format(bar, p), end='')\n"
   ]
  },
  {
   "cell_type": "code",
   "execution_count": 3,
   "metadata": {},
   "outputs": [],
   "source": [
    "def logsumexp(x, axis=1):\n",
    "    xp = cuda.get_array_module(x)\n",
    "    m = x.max(axis=axis, keepdims=True)\n",
    "    y = x - m\n",
    "    xp.exp(y, out=y)\n",
    "    s = y.sum(axis=axis, keepdims=True)\n",
    "    xp.log(s, out=s)\n",
    "    m += s\n",
    "    return m"
   ]
  },
  {
   "cell_type": "code",
   "execution_count": 4,
   "metadata": {},
   "outputs": [],
   "source": [
    "def get_conv_outsize(input_size, kernel_size, stride, pad):\n",
    "    return (input_size + pad * 2 - kernel_size) // stride + 1"
   ]
  },
  {
   "cell_type": "code",
   "execution_count": 5,
   "metadata": {},
   "outputs": [],
   "source": [
    "def get_deconv_outsize(size, k, s, p):\n",
    "    return s * (size - 1) + k - 2 * p"
   ]
  },
  {
   "cell_type": "code",
   "execution_count": 6,
   "metadata": {},
   "outputs": [],
   "source": [
    "def pair(x):\n",
    "    if isinstance(x, int):\n",
    "        return (x, x)\n",
    "    elif isinstance(x, tuple):\n",
    "        assert len(x) == 2\n",
    "        return x\n",
    "    else:\n",
    "        raise ValueError"
   ]
  },
  {
   "cell_type": "code",
   "execution_count": null,
   "metadata": {},
   "outputs": [],
   "source": []
  }
 ],
 "metadata": {
  "kernelspec": {
   "display_name": "Environment (conda_dezero)",
   "language": "python",
   "name": "conda_dezero"
  },
  "language_info": {
   "codemirror_mode": {
    "name": "ipython",
    "version": 3
   },
   "file_extension": ".py",
   "mimetype": "text/x-python",
   "name": "python",
   "nbconvert_exporter": "python",
   "pygments_lexer": "ipython3",
   "version": "3.7.9"
  }
 },
 "nbformat": 4,
 "nbformat_minor": 4
}
