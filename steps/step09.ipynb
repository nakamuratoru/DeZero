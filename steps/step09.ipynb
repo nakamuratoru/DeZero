{
 "cells": [
  {
   "cell_type": "code",
   "execution_count": 11,
   "metadata": {},
   "outputs": [],
   "source": [
    "import numpy as np\n",
    "\n",
    "class Variable:\n",
    "    def __init__(self, data):\n",
    "        if data is not None:\n",
    "            if not isinstance(data, np.ndarray):\n",
    "                raise TypeError(\"{} is not supported\".format(type(data)))\n",
    "                \n",
    "        self.data = data\n",
    "        self.grad = None\n",
    "        self.creator = None\n",
    "        \n",
    "    def set_creator(self, func):\n",
    "        self.creator = func\n",
    "        \n",
    "    def backward(self):\n",
    "        if self.grad is None:\n",
    "            self.grad = np.ones_like(self.data)\n",
    "        funcs = [self.creator]\n",
    "        while funcs:\n",
    "            f = funcs.pop()\n",
    "            x,y = f.input, f.output\n",
    "            x.grad = f.backward(y.grad)\n",
    "            \n",
    "            if x.creator is not None:\n",
    "                funcs.append(x.creator)\n",
    "\n",
    "class Function:\n",
    "    def __call__(self, input):\n",
    "        x = input.data\n",
    "        y = self.forward(x)\n",
    "        output = Variable(as_array(y))\n",
    "        output.set_creator(self)\n",
    "        self.input = input\n",
    "        self.output = output\n",
    "        return output\n",
    "    \n",
    "    def forward(self, x):\n",
    "        raise NotImplementedError()\n",
    "    \n",
    "    def backward(self, gy):\n",
    "        raise NotImplementedError()\n",
    "        \n",
    "class Square(Function):\n",
    "    def forward(self, x):\n",
    "        y = x ** 2\n",
    "        return y\n",
    "    \n",
    "    def backward(self, gy):\n",
    "        x = self.input.data\n",
    "        gx = 2 * x * gy\n",
    "        return gx\n",
    "    \n",
    "class Exp(Function):\n",
    "    def forward(self, x):\n",
    "        y = np.exp(x)\n",
    "        return y\n",
    "    \n",
    "    def backward(self, gy):\n",
    "        x = self.input.data\n",
    "        gx = np.exp(x) * gy\n",
    "        return gx\n",
    "    \n",
    "def square(x):\n",
    "    return Square()(x)\n",
    "\n",
    "def exp(x):\n",
    "    return Exp()(x)\n",
    "\n",
    "def as_array(x):\n",
    "    if np.isscalar(x):\n",
    "        return np.array(x)\n",
    "    return x"
   ]
  },
  {
   "cell_type": "code",
   "execution_count": 12,
   "metadata": {},
   "outputs": [
    {
     "name": "stdout",
     "output_type": "stream",
     "text": [
      "3.297442541400256\n"
     ]
    }
   ],
   "source": [
    "x = Variable(np.array(0.5))\n",
    "y = square(exp(square(x)))\n",
    "y.backward()\n",
    "print(x.grad)"
   ]
  },
  {
   "cell_type": "code",
   "execution_count": 13,
   "metadata": {},
   "outputs": [],
   "source": [
    "x = Variable(np.array(1.0))"
   ]
  },
  {
   "cell_type": "code",
   "execution_count": 14,
   "metadata": {},
   "outputs": [
    {
     "name": "stdout",
     "output_type": "stream",
     "text": [
      "<class 'numpy.ndarray'> 1\n",
      "<class 'numpy.ndarray'>\n"
     ]
    }
   ],
   "source": [
    "x = np.array([1.0])\n",
    "y = x ** 2\n",
    "print(type(x), x.ndim)\n",
    "print(type(y))"
   ]
  },
  {
   "cell_type": "code",
   "execution_count": null,
   "metadata": {},
   "outputs": [],
   "source": []
  }
 ],
 "metadata": {
  "kernelspec": {
   "display_name": "Environment (conda_dezero)",
   "language": "python",
   "name": "conda_dezero"
  },
  "language_info": {
   "codemirror_mode": {
    "name": "ipython",
    "version": 3
   },
   "file_extension": ".py",
   "mimetype": "text/x-python",
   "name": "python",
   "nbconvert_exporter": "python",
   "pygments_lexer": "ipython3",
   "version": "3.7.9"
  }
 },
 "nbformat": 4,
 "nbformat_minor": 4
}
