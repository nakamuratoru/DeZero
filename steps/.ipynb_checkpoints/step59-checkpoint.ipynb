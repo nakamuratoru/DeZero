{
 "cells": [
  {
   "cell_type": "code",
   "execution_count": 1,
   "metadata": {},
   "outputs": [],
   "source": [
    "import numpy as np\n",
    "import dezero.layers as L\n",
    "import dezero.functions as F\n",
    "from dezero import Model\n",
    "import dezero\n",
    "import matplotlib.pyplot as plt\n",
    "import  dezero.optimizers "
   ]
  },
  {
   "cell_type": "code",
   "execution_count": 2,
   "metadata": {},
   "outputs": [],
   "source": [
    "# rnn = L.RNN(10)\n",
    "# x = np.random.rand(1,1)\n",
    "# h = rnn(x)\n",
    "# print(h.shape)"
   ]
  },
  {
   "cell_type": "code",
   "execution_count": 3,
   "metadata": {},
   "outputs": [],
   "source": [
    "class SimpleRNN(Model):\n",
    "    def __init__(self, hidden_size, out_size):\n",
    "        super().__init__()\n",
    "        self.rnn = L.RNN(hidden_size)\n",
    "        self.fc = L.Linear(out_size)\n",
    "        \n",
    "    def reset_state(self):\n",
    "        self.rnn.reset_state()\n",
    "        \n",
    "    def forward(self, x):\n",
    "        h = self.rnn(x)\n",
    "        y = self.fc(h)\n",
    "        return y"
   ]
  },
  {
   "cell_type": "code",
   "execution_count": 4,
   "metadata": {},
   "outputs": [],
   "source": [
    "# seq_data = [np.random.randn(1,1) for _ in range(1000)]\n",
    "# xs = seq_data[0:-1]\n",
    "# ts = seq_data[1:]"
   ]
  },
  {
   "cell_type": "code",
   "execution_count": 5,
   "metadata": {},
   "outputs": [],
   "source": [
    "# model = SimpleRNN(10, 1)"
   ]
  },
  {
   "cell_type": "code",
   "execution_count": 6,
   "metadata": {},
   "outputs": [],
   "source": [
    "# loss, cnt = 0, 0"
   ]
  },
  {
   "cell_type": "code",
   "execution_count": 7,
   "metadata": {},
   "outputs": [],
   "source": [
    "# for x, t in zip(xs, ts):\n",
    "#     y = model(x)\n",
    "#     loss += F.mean_squared_error(y, t)\n",
    "    \n",
    "#     cnt += 1\n",
    "#     if cnt == 2:\n",
    "#         model.cleargrads()\n",
    "#         loss.backward()\n",
    "#         break"
   ]
  },
  {
   "cell_type": "code",
   "execution_count": 8,
   "metadata": {},
   "outputs": [],
   "source": [
    "# train_set = dezero.datasets.SinCurve(train=True)\n",
    "# print(len(train_set))\n",
    "# print(train_set[0])\n",
    "# print(train_set[1])\n",
    "# print(train_set[2])"
   ]
  },
  {
   "cell_type": "code",
   "execution_count": 9,
   "metadata": {},
   "outputs": [],
   "source": [
    "# xs = [example[0] for example in train_set]\n",
    "# ts = [example[1] for example in train_set]\n",
    "# plt.plot(np.arange(len(xs)), xs, label=\"xs\")\n",
    "# plt.plot(np.arange(len(ts)), ts, label=\"ts\")\n",
    "# plt.show()"
   ]
  },
  {
   "cell_type": "code",
   "execution_count": 10,
   "metadata": {},
   "outputs": [],
   "source": [
    "max_epoch = 100\n",
    "hidden_size = 100\n",
    "bptt_length = 30"
   ]
  },
  {
   "cell_type": "code",
   "execution_count": 11,
   "metadata": {},
   "outputs": [],
   "source": [
    "train_set = dezero.datasets.SinCurve(train=True)\n",
    "seqlen = len(train_set)"
   ]
  },
  {
   "cell_type": "code",
   "execution_count": 12,
   "metadata": {},
   "outputs": [],
   "source": [
    "model = SimpleRNN(hidden_size, 1)\n",
    "optimizer = dezero.optimizers.Adam().setup(model)"
   ]
  },
  {
   "cell_type": "code",
   "execution_count": 20,
   "metadata": {},
   "outputs": [
    {
     "name": "stdout",
     "output_type": "stream",
     "text": [
      "| epoch 1 | loss 0.005375\n",
      "| epoch 11 | loss 0.004531\n",
      "| epoch 21 | loss 0.002107\n",
      "| epoch 31 | loss 0.002541\n",
      "| epoch 41 | loss 0.040019\n",
      "| epoch 51 | loss 0.004489\n",
      "| epoch 61 | loss 0.003616\n",
      "| epoch 71 | loss 0.002124\n",
      "| epoch 81 | loss 0.002278\n",
      "| epoch 91 | loss 0.002881\n"
     ]
    }
   ],
   "source": [
    "for epoch in range(max_epoch):\n",
    "    model.reset_state()\n",
    "    loss, count = 0,0\n",
    "    \n",
    "    for x, t in train_set:\n",
    "        x = x.reshape(1, 1)\n",
    "        y = model(x)\n",
    "        loss += F.mean_squared_error(y, t)\n",
    "        count += 1\n",
    "        \n",
    "        if count % bptt_length == 0 or count == seqlen:\n",
    "            model.cleargrads()\n",
    "            loss.backward()\n",
    "            loss.unchain_backward()\n",
    "            optimizer.update()\n",
    "    \n",
    "    if epoch % 10 == 0:\n",
    "        avg_loss = float(loss.data) / count\n",
    "        print(\"| epoch %d | loss %f\" % (epoch +1, avg_loss))"
   ]
  },
  {
   "cell_type": "code",
   "execution_count": 21,
   "metadata": {},
   "outputs": [],
   "source": [
    "xs = np.cos(np.linspace(0, 4 * np.pi, 1000))\n",
    "model.reset_state()\n",
    "pred_list = []"
   ]
  },
  {
   "cell_type": "code",
   "execution_count": 22,
   "metadata": {},
   "outputs": [],
   "source": [
    "with dezero.no_grad():\n",
    "    for x in xs:\n",
    "        x = np.array(x).reshape(1, 1)\n",
    "        y = model(x)\n",
    "        pred_list.append(float(y.data))"
   ]
  },
  {
   "cell_type": "code",
   "execution_count": 23,
   "metadata": {},
   "outputs": [
    {
     "data": {
      "image/png": "[encoded data removed]",
      "text/plain": [
       "<Figure size 432x288 with 1 Axes>"
      ]
     },
     "metadata": {
      "needs_background": "light"
     },
     "output_type": "display_data"
    }
   ],
   "source": [
    "plt.plot(np.arange(len(xs)), xs, label=\"y=cos(x)\")\n",
    "plt.plot(np.arange(len(xs)), pred_list, label=\"predict\")\n",
    "plt.xlabel(\"x\")\n",
    "plt.ylabel(\"y\")\n",
    "plt.legend()\n",
    "plt.show()"
   ]
  },
  {
   "cell_type": "code",
   "execution_count": null,
   "metadata": {},
   "outputs": [],
   "source": []
  }
 ],
 "metadata": {
  "kernelspec": {
   "display_name": "Environment (conda_dezero)",
   "language": "python",
   "name": "conda_dezero"
  },
  "language_info": {
   "codemirror_mode": {
    "name": "ipython",
    "version": 3
   },
   "file_extension": ".py",
   "mimetype": "text/x-python",
   "name": "python",
   "nbconvert_exporter": "python",
   "pygments_lexer": "ipython3",
   "version": "3.7.9"
  }
 },
 "nbformat": 4,
 "nbformat_minor": 2
}
