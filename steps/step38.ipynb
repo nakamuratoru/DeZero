{
 "cells": [
  {
   "cell_type": "code",
   "execution_count": 1,
   "metadata": {},
   "outputs": [],
   "source": [
    "import numpy as np\n",
    "from dezero import Variable\n",
    "import dezero.functions as F"
   ]
  },
  {
   "cell_type": "code",
   "execution_count": 2,
   "metadata": {},
   "outputs": [
    {
     "name": "stdout",
     "output_type": "stream",
     "text": [
      "[1 2 3 4 5 6]\n"
     ]
    }
   ],
   "source": [
    "x = np.array([[1,2,3],[4,5,6]])\n",
    "y = np.reshape(x,(6,))\n",
    "print(y)"
   ]
  },
  {
   "cell_type": "code",
   "execution_count": 3,
   "metadata": {},
   "outputs": [
    {
     "name": "stdout",
     "output_type": "stream",
     "text": [
      "variable([[1 4]\n",
      "          [2 5]\n",
      "          [3 6]])\n",
      "variable([[1 1 1]\n",
      "          [1 1 1]])\n"
     ]
    }
   ],
   "source": [
    "x = Variable(np.array([[1,2,3],[4,5,6]]))\n",
    "y = F.transpose(x)\n",
    "print(y)\n",
    "y.backward(retain_grad=True)\n",
    "print(x.grad)"
   ]
  },
  {
   "cell_type": "code",
   "execution_count": 4,
   "metadata": {},
   "outputs": [
    {
     "name": "stdout",
     "output_type": "stream",
     "text": [
      "variable([[-0.45990388 -2.69720572]\n",
      "          [-1.38188713 -0.82239846]\n",
      "          [ 0.04225457  0.73864088]])\n"
     ]
    },
    {
     "data": {
      "text/plain": [
       "variable([[-0.45990388 -2.69720572]\n",
       "          [-1.38188713 -0.82239846]\n",
       "          [ 0.04225457  0.73864088]])"
      ]
     },
     "execution_count": 4,
     "metadata": {},
     "output_type": "execute_result"
    }
   ],
   "source": [
    "x = Variable(np.random.randn(2,3))\n",
    "y = x.transpose()\n",
    "print(y)\n",
    "y = x.T\n",
    "y"
   ]
  },
  {
   "cell_type": "code",
   "execution_count": 6,
   "metadata": {},
   "outputs": [
    {
     "name": "stdout",
     "output_type": "stream",
     "text": [
      "[[[[0.93668804 0.03172204 0.68444669 0.23682273]\n",
      "   [0.48987516 0.51662335 0.63273419 0.37261267]\n",
      "   [0.87242291 0.20851944 0.51156472 0.40463767]]\n",
      "\n",
      "  [[0.07409085 0.27219067 0.16065011 0.05439974]\n",
      "   [0.84407033 0.17392848 0.40508377 0.58880657]\n",
      "   [0.79263545 0.34784882 0.10022441 0.72872512]]]]\n"
     ]
    },
    {
     "data": {
      "text/plain": [
       "array([[[[0.93668804],\n",
       "         [0.07409085]],\n",
       "\n",
       "        [[0.48987516],\n",
       "         [0.84407033]],\n",
       "\n",
       "        [[0.87242291],\n",
       "         [0.79263545]]],\n",
       "\n",
       "\n",
       "       [[[0.03172204],\n",
       "         [0.27219067]],\n",
       "\n",
       "        [[0.51662335],\n",
       "         [0.17392848]],\n",
       "\n",
       "        [[0.20851944],\n",
       "         [0.34784882]]],\n",
       "\n",
       "\n",
       "       [[[0.68444669],\n",
       "         [0.16065011]],\n",
       "\n",
       "        [[0.63273419],\n",
       "         [0.40508377]],\n",
       "\n",
       "        [[0.51156472],\n",
       "         [0.10022441]]],\n",
       "\n",
       "\n",
       "       [[[0.23682273],\n",
       "         [0.05439974]],\n",
       "\n",
       "        [[0.37261267],\n",
       "         [0.58880657]],\n",
       "\n",
       "        [[0.40463767],\n",
       "         [0.72872512]]]])"
      ]
     },
     "execution_count": 6,
     "metadata": {},
     "output_type": "execute_result"
    }
   ],
   "source": [
    "A,B,C,D = 1,2,3,4\n",
    "x = np.random.rand(A,B,C,D)\n",
    "print(x)\n",
    "y = x.transpose(3,2,1,0)\n",
    "y"
   ]
  },
  {
   "cell_type": "code",
   "execution_count": null,
   "metadata": {},
   "outputs": [],
   "source": []
  },
  {
   "cell_type": "code",
   "execution_count": null,
   "metadata": {},
   "outputs": [],
   "source": []
  }
 ],
 "metadata": {
  "kernelspec": {
   "display_name": "Environment (conda_dezero)",
   "language": "python",
   "name": "conda_dezero"
  },
  "language_info": {
   "codemirror_mode": {
    "name": "ipython",
    "version": 3
   },
   "file_extension": ".py",
   "mimetype": "text/x-python",
   "name": "python",
   "nbconvert_exporter": "python",
   "pygments_lexer": "ipython3",
   "version": "3.7.9"
  }
 },
 "nbformat": 4,
 "nbformat_minor": 2
}
