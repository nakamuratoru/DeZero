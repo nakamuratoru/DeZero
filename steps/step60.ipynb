{
 "cells": [
  {
   "cell_type": "code",
   "execution_count": 11,
   "metadata": {},
   "outputs": [],
   "source": [
    "import numpy as np\n",
    "import dezero\n",
    "from dezero import Model\n",
    "from dezero.dataloaders import  SeqDataLoader\n",
    "import dezero.functions as F\n",
    "import dezero.layers as L\n",
    "import matplotlib.pyplot as plt"
   ]
  },
  {
   "cell_type": "code",
   "execution_count": 2,
   "metadata": {},
   "outputs": [],
   "source": [
    "max_epoch = 100\n",
    "batch_size = 30\n",
    "hidden_size = 100\n",
    "bptt_length = 30"
   ]
  },
  {
   "cell_type": "code",
   "execution_count": 3,
   "metadata": {},
   "outputs": [],
   "source": [
    "train_set = dezero.datasets.SinCurve(train=True)\n",
    "dataloader = SeqDataLoader(train_set, batch_size=batch_size)\n",
    "seqlen = len(train_set)"
   ]
  },
  {
   "cell_type": "code",
   "execution_count": 4,
   "metadata": {},
   "outputs": [],
   "source": [
    "class BetterRNN(Model):\n",
    "    def __init__(self, hidden_size, out_size):\n",
    "        super().__init__()\n",
    "        self.rnn = L.LSTM(hidden_size)\n",
    "        self.fc = L.Linear(out_size)\n",
    "        \n",
    "    def reset_state(self):\n",
    "        self.rnn.reset_state()\n",
    "        \n",
    "    def forward(self, x):\n",
    "        y = self.rnn(x)\n",
    "        y = self.fc(y)\n",
    "        return y"
   ]
  },
  {
   "cell_type": "code",
   "execution_count": 5,
   "metadata": {},
   "outputs": [],
   "source": [
    "model = BetterRNN(hidden_size, 1)\n",
    "optimizer = dezero.optimizers.Adam().setup(model)"
   ]
  },
  {
   "cell_type": "code",
   "execution_count": 6,
   "metadata": {},
   "outputs": [
    {
     "name": "stdout",
     "output_type": "stream",
     "text": [
      "| epoch 1| loss 0.704304\n",
      "| epoch 2| loss 0.590504\n",
      "| epoch 3| loss 0.488415\n",
      "| epoch 4| loss 0.397891\n",
      "| epoch 5| loss 0.318758\n",
      "| epoch 6| loss 0.250831\n",
      "| epoch 7| loss 0.193906\n",
      "| epoch 8| loss 0.147741\n",
      "| epoch 9| loss 0.111999\n",
      "| epoch 10| loss 0.086164\n",
      "| epoch 11| loss 0.069420\n",
      "| epoch 12| loss 0.060543\n",
      "| epoch 13| loss 0.057884\n",
      "| epoch 14| loss 0.059488\n",
      "| epoch 15| loss 0.063329\n",
      "| epoch 16| loss 0.067591\n",
      "| epoch 17| loss 0.070883\n",
      "| epoch 18| loss 0.072365\n",
      "| epoch 19| loss 0.071736\n",
      "| epoch 20| loss 0.069125\n",
      "| epoch 21| loss 0.064941\n",
      "| epoch 22| loss 0.059728\n",
      "| epoch 23| loss 0.054057\n",
      "| epoch 24| loss 0.048441\n",
      "| epoch 25| loss 0.043296\n",
      "| epoch 26| loss 0.038918\n",
      "| epoch 27| loss 0.035480\n",
      "| epoch 28| loss 0.033041\n",
      "| epoch 29| loss 0.031559\n",
      "| epoch 30| loss 0.030910\n",
      "| epoch 31| loss 0.030903\n",
      "| epoch 32| loss 0.031305\n",
      "| epoch 33| loss 0.031867\n",
      "| epoch 34| loss 0.032364\n",
      "| epoch 35| loss 0.032623\n",
      "| epoch 36| loss 0.032546\n",
      "| epoch 37| loss 0.032114\n",
      "| epoch 38| loss 0.031371\n",
      "| epoch 39| loss 0.030404\n",
      "| epoch 40| loss 0.029323\n",
      "| epoch 41| loss 0.028235\n",
      "| epoch 42| loss 0.027233\n",
      "| epoch 43| loss 0.026385\n",
      "| epoch 44| loss 0.025728\n",
      "| epoch 45| loss 0.025266\n",
      "| epoch 46| loss 0.024981\n",
      "| epoch 47| loss 0.024831\n",
      "| epoch 48| loss 0.024769\n",
      "| epoch 49| loss 0.024744\n",
      "| epoch 50| loss 0.024711\n",
      "| epoch 51| loss 0.024636\n",
      "| epoch 52| loss 0.024498\n",
      "| epoch 53| loss 0.024292\n",
      "| epoch 54| loss 0.024023\n",
      "| epoch 55| loss 0.023709\n",
      "| epoch 56| loss 0.023370\n",
      "| epoch 57| loss 0.023030\n",
      "| epoch 58| loss 0.022708\n",
      "| epoch 59| loss 0.022421\n",
      "| epoch 60| loss 0.022178\n",
      "| epoch 61| loss 0.021979\n",
      "| epoch 62| loss 0.021822\n",
      "| epoch 63| loss 0.021694\n",
      "| epoch 64| loss 0.021585\n",
      "| epoch 65| loss 0.021480\n",
      "| epoch 66| loss 0.021369\n",
      "| epoch 67| loss 0.021244\n",
      "| epoch 68| loss 0.021101\n",
      "| epoch 69| loss 0.020941\n",
      "| epoch 70| loss 0.020767\n",
      "| epoch 71| loss 0.020586\n",
      "| epoch 72| loss 0.020404\n",
      "| epoch 73| loss 0.020229\n",
      "| epoch 74| loss 0.020063\n",
      "| epoch 75| loss 0.019911\n",
      "| epoch 76| loss 0.019770\n",
      "| epoch 77| loss 0.019641\n",
      "| epoch 78| loss 0.019519\n",
      "| epoch 79| loss 0.019400\n",
      "| epoch 80| loss 0.019283\n",
      "| epoch 81| loss 0.019163\n",
      "| epoch 82| loss 0.019042\n",
      "| epoch 83| loss 0.018917\n",
      "| epoch 84| loss 0.018792\n",
      "| epoch 85| loss 0.018666\n",
      "| epoch 86| loss 0.018543\n",
      "| epoch 87| loss 0.018423\n",
      "| epoch 88| loss 0.018308\n",
      "| epoch 89| loss 0.018197\n",
      "| epoch 90| loss 0.018090\n",
      "| epoch 91| loss 0.017986\n",
      "| epoch 92| loss 0.017884\n",
      "| epoch 93| loss 0.017783\n",
      "| epoch 94| loss 0.017681\n",
      "| epoch 95| loss 0.017579\n",
      "| epoch 96| loss 0.017476\n",
      "| epoch 97| loss 0.017373\n",
      "| epoch 98| loss 0.017270\n",
      "| epoch 99| loss 0.017168\n",
      "| epoch 100| loss 0.017067\n"
     ]
    }
   ],
   "source": [
    "for epoch in range(max_epoch):\n",
    "    model.reset_state()\n",
    "    loss, count = 0,0\n",
    "    \n",
    "    for x, t in dataloader:\n",
    "        y = model(x)\n",
    "        loss += F.mean_squared_error(y, t)\n",
    "        count += 1\n",
    "        \n",
    "        if count % bptt_length == 0 or count == seqlen:\n",
    "            model.cleargrads()\n",
    "            loss.backward()\n",
    "            loss.unchain_backward()\n",
    "            optimizer.update()\n",
    "            \n",
    "    avg_loss = float(loss.data) / count\n",
    "    print(\"| epoch %d| loss %f\"  % (epoch + 1, avg_loss))"
   ]
  },
  {
   "cell_type": "code",
   "execution_count": 7,
   "metadata": {},
   "outputs": [],
   "source": [
    "xs = np.cos(np.linspace(0, 4 * np.pi, 1000))\n",
    "model.reset_state()\n",
    "pred_list = []"
   ]
  },
  {
   "cell_type": "code",
   "execution_count": 8,
   "metadata": {},
   "outputs": [],
   "source": [
    "with dezero.no_grad():\n",
    "    for x in xs:\n",
    "        x = np.array(x).reshape(1, 1)\n",
    "        y = model(x)\n",
    "        pred_list.append(float(y.data))"
   ]
  },
  {
   "cell_type": "code",
   "execution_count": 14,
   "metadata": {},
   "outputs": [
    {
     "data": {
      "image/png": "[encoded data removed]",
      "text/plain": [
       "<Figure size 432x288 with 1 Axes>"
      ]
     },
     "metadata": {
      "needs_background": "light"
     },
     "output_type": "display_data"
    }
   ],
   "source": [
    "plt.plot(np.arange(len(xs)), xs, label=\"y=cos(x)\")\n",
    "plt.plot(np.arange(len(xs)), pred_list, label=\"predict\")\n",
    "plt.xlabel(\"x\")\n",
    "plt.ylabel(\"y\")\n",
    "plt.legend()\n",
    "plt.show()"
   ]
  },
  {
   "cell_type": "code",
   "execution_count": null,
   "metadata": {},
   "outputs": [],
   "source": []
  }
 ],
 "metadata": {
  "kernelspec": {
   "display_name": "Environment (conda_dezero)",
   "language": "python",
   "name": "conda_dezero"
  },
  "language_info": {
   "codemirror_mode": {
    "name": "ipython",
    "version": 3
   },
   "file_extension": ".py",
   "mimetype": "text/x-python",
   "name": "python",
   "nbconvert_exporter": "python",
   "pygments_lexer": "ipython3",
   "version": "3.7.9"
  }
 },
 "nbformat": 4,
 "nbformat_minor": 2
}
