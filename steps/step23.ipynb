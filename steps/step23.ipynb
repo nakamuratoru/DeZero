{
 "cells": [
  {
   "cell_type": "code",
   "execution_count": 4,
   "metadata": {},
   "outputs": [],
   "source": [
    "if '__file__' in globals():\n",
    "    import os, sys\n",
    "    sys.path.append(os.path.join(os.path.dirname(__file__), '..'))    "
   ]
  },
  {
   "cell_type": "code",
   "execution_count": 5,
   "metadata": {},
   "outputs": [],
   "source": [
    "import numpy as np\n",
    "from dezero import Variable"
   ]
  },
  {
   "cell_type": "code",
   "execution_count": 6,
   "metadata": {},
   "outputs": [
    {
     "name": "stdout",
     "output_type": "stream",
     "text": [
      "variable(16.0)\n",
      "8.0\n"
     ]
    }
   ],
   "source": [
    "x = Variable(np.array(1.0))\n",
    "y = (x + 3) ** 2\n",
    "y.backward()\n",
    "\n",
    "print(y)\n",
    "print(x.grad)"
   ]
  },
  {
   "cell_type": "code",
   "execution_count": 1,
   "metadata": {},
   "outputs": [
    {
     "name": "stdout",
     "output_type": "stream",
     "text": [
      "['/Users/nakamuratooru/Desktop/DeZero/steps',\n",
      " '/Users/nakamuratooru/.pyenv/versions/anaconda3-5.3.1/envs/dezero/lib/python37.zip',\n",
      " '/Users/nakamuratooru/.pyenv/versions/anaconda3-5.3.1/envs/dezero/lib/python3.7',\n",
      " '/Users/nakamuratooru/.pyenv/versions/anaconda3-5.3.1/envs/dezero/lib/python3.7/lib-dynload',\n",
      " '',\n",
      " '/Users/nakamuratooru/.local/lib/python3.7/site-packages',\n",
      " '/Users/nakamuratooru/.pyenv/versions/anaconda3-5.3.1/envs/dezero/lib/python3.7/site-packages',\n",
      " '/Users/nakamuratooru/.pyenv/versions/anaconda3-5.3.1/envs/dezero/lib/python3.7/site-packages/IPython/extensions',\n",
      " '/Users/nakamuratooru/.ipython']\n"
     ]
    }
   ],
   "source": [
    "import pprint\n",
    "import sys\n",
    "\n",
    "pprint.pprint(sys.path)"
   ]
  },
  {
   "cell_type": "code",
   "execution_count": 2,
   "metadata": {},
   "outputs": [],
   "source": [
    "sys.path.append('/Users/nakamuratooru/Desktop/DeZero/')"
   ]
  },
  {
   "cell_type": "code",
   "execution_count": null,
   "metadata": {},
   "outputs": [],
   "source": []
  }
 ],
 "metadata": {
  "kernelspec": {
   "display_name": "Environment (conda_dezero)",
   "language": "python",
   "name": "conda_dezero"
  },
  "language_info": {
   "codemirror_mode": {
    "name": "ipython",
    "version": 3
   },
   "file_extension": ".py",
   "mimetype": "text/x-python",
   "name": "python",
   "nbconvert_exporter": "python",
   "pygments_lexer": "ipython3",
   "version": "3.7.9"
  }
 },
 "nbformat": 4,
 "nbformat_minor": 2
}
